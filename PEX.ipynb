{
 "cells": [
  {
   "cell_type": "code",
   "execution_count": 7,
   "id": "548a055d-0e27-42f3-80d1-aa8f5f358c02",
   "metadata": {},
   "outputs": [],
   "source": [
    "import pandas as pd\n",
    "import numpy as np\n",
    "from datetime import date\n",
    "# Carregue seu arquivo CSV. O 'index_col' garante que a coluna de índice não será usada.\n",
    "df = pd.read_csv(r\"C:\\Users\\b.teixeira\\Downloads\\negociospex.csv\",sep=';')"
   ]
  },
  {
   "cell_type": "raw",
   "id": "36ae05f3-dfc7-45af-a40f-19de959b9203",
   "metadata": {},
   "source": [
    "### CRIAÇÃO DOS DADOS ALEATÓRIOS DO CSV ###"
   ]
  },
  {
   "cell_type": "code",
   "execution_count": 8,
   "id": "58d7cef9-b8ff-4cfa-b8ad-021e9a6e2ff7",
   "metadata": {},
   "outputs": [],
   "source": [
    "# Crie uma lista de estados e cidades de exemplo\n",
    "estados_br = ['SP', 'RJ', 'MG', 'BA', 'RS']\n",
    "cidades_por_estado = {\n",
    "    'SP': ['São Paulo', 'Campinas', 'Guarulhos'],\n",
    "    'RJ': ['Rio de Janeiro', 'Niterói', 'Petrópolis'],\n",
    "    'MG': ['Belo Horizonte', 'Uberlândia', 'Ouro Preto'],\n",
    "    'BA': ['Salvador', 'Feira de Santana', 'Vitória da Conquista'],\n",
    "    'RS': ['Porto Alegre', 'Gramado', 'Caxias do Sul']\n",
    "}\n",
    "\n",
    "# Lista de DDDs comuns no Brasil\n",
    "ddds_br = [11, 21, 31, 71, 51]\n",
    "\n",
    "n_linhas = 6002"
   ]
  },
  {
   "cell_type": "code",
   "execution_count": 9,
   "id": "6b385aef-4910-4c83-93f2-7709b29ab072",
   "metadata": {},
   "outputs": [],
   "source": [
    "\n",
    "# Solução: Gerar o CPF como uma string de 11 dígitos aleatórios.\n",
    "df['CPF'] = [''.join(np.random.choice(list('0123456789'), 11)) for _ in range(n_linhas)]\n",
    "\n",
    "# Solução: Gerar datas de forma mais segura.\n",
    "data_inicio = pd.to_datetime('1960-01-01')\n",
    "data_fim = pd.to_datetime('2005-01-01')\n",
    "\n",
    "# Calcule o intervalo de tempo em dias\n",
    "dias_intervalo = (data_fim - data_inicio).days\n",
    "\n",
    "# Gere um número aleatório de dias para cada cliente\n",
    "dias_aleatorios = np.random.randint(0, dias_intervalo, n_linhas)\n",
    "\n",
    "# Adicione o número de dias à data inicial\n",
    "datas_nasc = data_inicio + pd.to_timedelta(dias_aleatorios, unit='D')\n",
    "df['Data de nascimento'] = datas_nasc.strftime('%Y-%m-%d')\n",
    "\n",
    "# Preencher as colunas 'Estado' e 'DDD'\n",
    "df['Estado'] = np.random.choice(estados_br, size=n_linhas)\n",
    "df['DDD'] = df['Estado'].apply(lambda x: ddds_br[estados_br.index(x)])\n",
    "\n",
    "# Preencher a coluna 'Cidade' com base no 'Estado'\n",
    "df['Cidade'] = [np.random.choice(cidades_por_estado[estado]) for estado in df['Estado']]\n",
    "\n",
    "# Opcional: Para misturar bem as cidades, você pode embaralhar os dados novamente\n",
    "df['Cidade'] = np.random.permutation(df['Cidade'])"
   ]
  },
  {
   "cell_type": "raw",
   "id": "d4f15270-55e8-4798-93e5-7dad6d4e9c6c",
   "metadata": {},
   "source": [
    "## PREPARAÇÃO DOS DADOS E VARIÁVEIS ###"
   ]
  },
  {
   "cell_type": "code",
   "execution_count": 10,
   "id": "e6fe3243-6b99-4bb3-bdd5-6e61d9e48cd3",
   "metadata": {},
   "outputs": [],
   "source": [
    "df['Data de nascimento'] = pd.to_datetime(df['Data de nascimento'])"
   ]
  },
  {
   "cell_type": "code",
   "execution_count": 11,
   "id": "aa6396b0-0f9c-4de1-9a21-0a8c42439a79",
   "metadata": {},
   "outputs": [],
   "source": [
    "def calcular_idade(data_nascimento):\n",
    "    hoje = date.today()\n",
    "    return hoje.year - data_nascimento.year - ((hoje.month, hoje.day) < (data_nascimento.month, data_nascimento.day))"
   ]
  },
  {
   "cell_type": "code",
   "execution_count": 12,
   "id": "57eeb642-b206-48d1-a4f5-d287d64c69f7",
   "metadata": {},
   "outputs": [],
   "source": [
    "df['idade'] = df['Data de nascimento'].apply(calcular_idade)"
   ]
  },
  {
   "cell_type": "code",
   "execution_count": 17,
   "id": "38bc4850-0593-40d1-b558-955ddc27a5d2",
   "metadata": {},
   "outputs": [],
   "source": [
    "colunas_categoricas = [\n",
    "    'Segmento', 'Canal de Vendas', 'Canal', 'Estado', \n",
    "    'Cidade', 'DDD', 'Forma de pagamento', 'Serviço','Plano Contratado'\n",
    "]"
   ]
  },
  {
   "cell_type": "code",
   "execution_count": 20,
   "id": "63f54845-86be-4cd7-9a94-27bc131d4445",
   "metadata": {},
   "outputs": [],
   "source": [
    "df_categoricas_dummies = pd.get_dummies(df[colunas_categoricas], drop_first=True)\n",
    "# 2. Limpar e Converter Colunas Numéricas\n",
    "# Corrigir a coluna 'GB contratados'\n",
    "df['GB'] = df['GB'].astype(str).str.replace(',', '.', regex=False).astype(float)\n",
    "# Corrigir a coluna 'Valor do plano' (caso também tenha vírgulas)\n",
    "df['Renda'] = df['Renda'].astype(str).str.replace(',', '.', regex=False).astype(float)"
   ]
  },
  {
   "cell_type": "code",
   "execution_count": 21,
   "id": "80a015b2-c3de-4603-9cfb-5b2991d7573e",
   "metadata": {},
   "outputs": [],
   "source": [
    "df_final = pd.concat([\n",
    "    df[['idade', 'GB', 'Renda']].astype(float), # Converte para numérico\n",
    "    df_categoricas_dummies\n",
    "], axis=1)"
   ]
  },
  {
   "cell_type": "raw",
   "id": "970d1787-9863-4738-84a9-e4cfd7c452e1",
   "metadata": {},
   "source": [
    "### DADOS PREPARADOS PARA PADRONIZAÇÃO NO SKLEARN ##"
   ]
  },
  {
   "cell_type": "code",
   "execution_count": 26,
   "id": "84e418e9-92a1-45a9-a596-c255fddc847b",
   "metadata": {},
   "outputs": [],
   "source": [
    "\n",
    "from sklearn.preprocessing import StandardScaler\n",
    "import matplotlib.pyplot as plt\n",
    "from sklearn.cluster import KMeans\n",
    "from kneed import KneeLocator\n",
    "\n",
    "# 1. Instanciar o padronizador\n",
    "scaler = StandardScaler()\n",
    "\n",
    "# 2. Aplicar o padronizador ao DataFrame\n",
    "df_padronizado = pd.DataFrame(scaler.fit_transform(df_final), columns=df_final.columns)"
   ]
  },
  {
   "cell_type": "code",
   "execution_count": 27,
   "id": "38bd3e25-d45b-4d53-aaea-9a7e2e9195e9",
   "metadata": {},
   "outputs": [
    {
     "name": "stdout",
     "output_type": "stream",
     "text": [
      "\n",
      "---\n",
      "DataFrame após a padronização:\n",
      "              idade            GB         Renda           DDD  \\\n",
      "count  6.002000e+03  6.002000e+03  6.002000e+03  6.002000e+03   \n",
      "mean  -1.237116e-16 -8.523672e-17 -6.866291e-17  8.790036e-17   \n",
      "std    1.000083e+00  1.000083e+00  1.000083e+00  1.000083e+00   \n",
      "min   -1.784440e+00 -2.136999e+00 -1.536543e+00 -1.201779e+00   \n",
      "25%   -8.528003e-01 -2.301549e-01 -7.504150e-01 -7.373184e-01   \n",
      "50%    1.202967e-03  8.765252e-02  2.328593e-01 -2.728573e-01   \n",
      "75%    8.552062e-01  4.054599e-01  5.278416e-01  6.560648e-01   \n",
      "max    1.709209e+00  7.158867e+00  7.656580e+00  1.584987e+00   \n",
      "\n",
      "       Segmento_Express  Segmento_Pré-Pago Combo  Segmento_Pós Pago  \\\n",
      "count      6.002000e+03             6.002000e+03       6.002000e+03   \n",
      "mean       9.470746e-18             2.367687e-18       1.183843e-18   \n",
      "std        1.000083e+00             1.000083e+00       1.000083e+00   \n",
      "min       -3.436674e-01            -4.495363e-01      -9.257423e-02   \n",
      "25%       -3.436674e-01            -4.495363e-01      -9.257423e-02   \n",
      "50%       -3.436674e-01            -4.495363e-01      -9.257423e-02   \n",
      "75%       -3.436674e-01            -4.495363e-01      -9.257423e-02   \n",
      "max        2.909790e+00             2.224514e+00       1.080214e+01   \n",
      "\n",
      "       Segmento_Pós Pago Família  Canal de Vendas_Varejo  \\\n",
      "count               6.002000e+03            6.002000e+03   \n",
      "mean               -8.286903e-18           -1.089136e-16   \n",
      "std                 1.000083e+00            1.000083e+00   \n",
      "min                -3.417074e-02           -1.445350e+00   \n",
      "25%                -3.417074e-02           -1.445350e+00   \n",
      "50%                -3.417074e-02            6.918738e-01   \n",
      "75%                -3.417074e-02            6.918738e-01   \n",
      "max                 2.926480e+01            6.918738e-01   \n",
      "\n",
      "       Canal_Bot Whatsapp Site  ...  \\\n",
      "count             6.002000e+03  ...   \n",
      "mean             -4.498604e-17  ...   \n",
      "std               1.000083e+00  ...   \n",
      "min              -2.119350e-01  ...   \n",
      "25%              -2.119350e-01  ...   \n",
      "50%              -2.119350e-01  ...   \n",
      "75%              -2.119350e-01  ...   \n",
      "max               4.718428e+00  ...   \n",
      "\n",
      "       Plano Contratado_TIM Controle Giga B Express  \\\n",
      "count                                  6.002000e+03   \n",
      "mean                                   4.616989e-17   \n",
      "std                                    1.000083e+00   \n",
      "min                                   -2.166133e-01   \n",
      "25%                                   -2.166133e-01   \n",
      "50%                                   -2.166133e-01   \n",
      "75%                                   -2.166133e-01   \n",
      "max                                    4.616521e+00   \n",
      "\n",
      "       Plano Contratado_TIM Controle Giga C Express  \\\n",
      "count                                  6.002000e+03   \n",
      "mean                                  -5.682448e-17   \n",
      "std                                    1.000083e+00   \n",
      "min                                   -2.533464e-01   \n",
      "25%                                   -2.533464e-01   \n",
      "50%                                   -2.533464e-01   \n",
      "75%                                   -2.533464e-01   \n",
      "max                                    3.947165e+00   \n",
      "\n",
      "       Plano Contratado_TIM Controle Plus  \\\n",
      "count                        6.002000e+03   \n",
      "mean                         1.775765e-18   \n",
      "std                          1.000083e+00   \n",
      "min                         -4.538142e-01   \n",
      "25%                         -4.538142e-01   \n",
      "50%                         -4.538142e-01   \n",
      "75%                         -4.538142e-01   \n",
      "max                          2.203545e+00   \n",
      "\n",
      "       Plano Contratado_TIM Controle Premium  \\\n",
      "count                           6.002000e+03   \n",
      "mean                            1.894149e-17   \n",
      "std                             1.000083e+00   \n",
      "min                            -2.566813e-01   \n",
      "25%                            -2.566813e-01   \n",
      "50%                            -2.566813e-01   \n",
      "75%                            -2.566813e-01   \n",
      "max                             3.895882e+00   \n",
      "\n",
      "       Plano Contratado_TIM Pos Pago Black A EXPRESS  \\\n",
      "count                                   6.002000e+03   \n",
      "mean                                    4.735373e-18   \n",
      "std                                     1.000083e+00   \n",
      "min                                    -1.290887e-02   \n",
      "25%                                    -1.290887e-02   \n",
      "50%                                    -1.290887e-02   \n",
      "75%                                    -1.290887e-02   \n",
      "max                                     7.746612e+01   \n",
      "\n",
      "       Plano Contratado_TIM Pos Pago Black B EXPRESS  \\\n",
      "count                                    6002.000000   \n",
      "mean                                        0.000000   \n",
      "std                                         1.000083   \n",
      "min                                        -0.018257   \n",
      "25%                                        -0.018257   \n",
      "50%                                        -0.018257   \n",
      "75%                                        -0.018257   \n",
      "max                                        54.772256   \n",
      "\n",
      "       Plano Contratado_TIM Pos Pago Black C Ultra  \\\n",
      "count                                 6.002000e+03   \n",
      "mean                                  1.124651e-17   \n",
      "std                                   1.000083e+00   \n",
      "min                                  -2.236254e-02   \n",
      "25%                                  -2.236254e-02   \n",
      "50%                                  -2.236254e-02   \n",
      "75%                                  -2.236254e-02   \n",
      "max                                   4.471763e+01   \n",
      "\n",
      "       Plano Contratado_Tim Black Família A  \\\n",
      "count                          6.002000e+03   \n",
      "mean                           9.470746e-18   \n",
      "std                            1.000083e+00   \n",
      "min                           -3.163332e-02   \n",
      "25%                           -3.163332e-02   \n",
      "50%                           -3.163332e-02   \n",
      "75%                           -3.163332e-02   \n",
      "max                            3.161223e+01   \n",
      "\n",
      "       Plano Contratado_Tim Black Família A One  Plano Contratado_Tim Pré XIP  \n",
      "count                              6.002000e+03                  6.002000e+03  \n",
      "mean                               1.183843e-17                  2.367687e-18  \n",
      "std                                1.000083e+00                  1.000083e+00  \n",
      "min                               -1.290887e-02                 -4.495363e-01  \n",
      "25%                               -1.290887e-02                 -4.495363e-01  \n",
      "50%                               -1.290887e-02                 -4.495363e-01  \n",
      "75%                               -1.290887e-02                 -4.495363e-01  \n",
      "max                                7.746612e+01                  2.224514e+00  \n",
      "\n",
      "[8 rows x 69 columns]\n"
     ]
    }
   ],
   "source": [
    "# 3. Exibir o DataFrame após a padronização\n",
    "print(\"\\n---\")\n",
    "print(\"DataFrame após a padronização:\")\n",
    "print(df_padronizado.describe())"
   ]
  },
  {
   "cell_type": "code",
   "execution_count": 28,
   "id": "f1625c5b-bc88-48bd-8216-5703648dd67b",
   "metadata": {},
   "outputs": [
    {
     "data": {
      "image/png": "[encoded data removed]",
      "text/plain": [
       "<Figure size 1000x600 with 1 Axes>"
      ]
     },
     "metadata": {},
     "output_type": "display_data"
    },
    {
     "name": "stdout",
     "output_type": "stream",
     "text": [
      "\n",
      "O número ideal de clusters (método do cotovelo) é: 7\n"
     ]
    }
   ],
   "source": [
    "# Vamos usar os dados padronizados\n",
    "X = df_padronizado\n",
    "\n",
    "# Lista para armazenar a inércia (soma dos quadrados) para cada K\n",
    "inercia = []\n",
    "\n",
    "# Testar de 1 a 10 clusters\n",
    "for i in range(1, 11):\n",
    "    kmeans = KMeans(n_clusters=i, init='k-means++', n_init=10, max_iter=300, random_state=42)\n",
    "    kmeans.fit(X)\n",
    "    inercia.append(kmeans.inertia_)\n",
    "\n",
    "# Plotar o gráfico do Cotovelo\n",
    "plt.figure(figsize=(10, 6))\n",
    "plt.plot(range(1, 11), inercia, marker='o', linestyle='--')\n",
    "plt.title('Método do Cotovelo')\n",
    "plt.xlabel('Número de Clusters (K)')\n",
    "plt.ylabel('Inércia (Soma dos Quadrados)')\n",
    "plt.grid(True)\n",
    "plt.show()\n",
    "\n",
    "# Opcional: Usar a biblioteca kneed para encontrar o cotovelo automaticamente\n",
    "cotovelo = KneeLocator(range(1, 11), inercia, curve='convex', direction='decreasing')\n",
    "print(f\"\\nO número ideal de clusters (método do cotovelo) é: {cotovelo.elbow}\")"
   ]
  },
  {
   "cell_type": "code",
   "execution_count": 30,
   "id": "e9c21d3a-d350-4ee9-b7f1-f8e475e76a9b",
   "metadata": {},
   "outputs": [
    {
     "name": "stdout",
     "output_type": "stream",
     "text": [
      "---\n",
      "Perfil de cada Cluster:\n",
      "   Cluster  Idade Média  GB Contratados Médios  Valor do Plano Médio  \\\n",
      "0        0    42.861249              12.000000             23.563925   \n",
      "1        1    44.218045              48.348371             92.797018   \n",
      "2        2    41.839937              37.253566             63.284770   \n",
      "3        3    42.876601              28.877765             60.044715   \n",
      "4        4    43.183656              26.184920             42.323614   \n",
      "5        5    43.121951              40.034146             65.181220   \n",
      "6        6    47.909091              85.030303            142.111212   \n",
      "\n",
      "  Segmento Dominante Canal de Vendas Dominante Estado Dominante  \\\n",
      "0     Pré-Pago Combo                    Varejo               SP   \n",
      "1           Controle                   Digital               SP   \n",
      "2            Express                    Varejo               MG   \n",
      "3           Controle                   Digital               SP   \n",
      "4           Controle                    Varejo               MG   \n",
      "5           Controle                    Varejo               BA   \n",
      "6           Pós Pago                   Digital               MG   \n",
      "\n",
      "           Serviço Dominante   Plano Contratado Dominante  \n",
      "0  Pré Pago Ativação Recarga                  Tim Pré XIP  \n",
      "1                   Migração         TIM Controle Premium  \n",
      "2                   Migração  TIM Controle Giga C Express  \n",
      "3                   Ativação                 TIM Controle  \n",
      "4                   Migração          TIM Controle A Plus  \n",
      "5                   Migração            TIM Controle Plus  \n",
      "6                   Migração               TIM Black Plus  \n"
     ]
    }
   ],
   "source": [
    "kmeans = KMeans(n_clusters=7, init='k-means++', n_init=10, max_iter=300, random_state=42)\n",
    "kmeans.fit(df_padronizado)\n",
    "\n",
    "# 2. Atribuir os rótulos dos clusters ao DataFrame original\n",
    "# Isso nos permite analisar os grupos com os dados originais\n",
    "df['cluster_label'] = kmeans.labels_\n",
    "\n",
    "# 3. Analisar as características de cada cluster\n",
    "# Agrupe o DataFrame pelo cluster e calcule a média das colunas importantes\n",
    "perfil_clusters = df.groupby('cluster_label').agg({\n",
    "    'idade': 'mean',\n",
    "    'GB': 'mean',\n",
    "    'Renda': 'mean',\n",
    "    'Segmento': lambda x: x.mode()[0],\n",
    "    'Canal de Vendas': lambda x: x.mode()[0],\n",
    "    'Estado': lambda x: x.mode()[0],\n",
    "    'Serviço': lambda x: x.mode()[0],\n",
    "    'Plano Contratado': lambda x: x.mode()[0]\n",
    "}).reset_index()\n",
    "\n",
    "# Renomear as colunas para melhor visualização\n",
    "perfil_clusters.columns = [\n",
    "    'Cluster', 'Idade Média', 'GB Contratados Médios', \n",
    "    'Valor do Plano Médio', 'Segmento Dominante', \n",
    "    'Canal de Vendas Dominante', 'Estado Dominante', \n",
    "    'Serviço Dominante', 'Plano Contratado Dominante'\n",
    "]\n",
    "\n",
    "# Exibir o perfil de cada cluster\n",
    "print(\"---\")\n",
    "print(\"Perfil de cada Cluster:\")\n",
    "print(perfil_clusters)\n",
    "df.to_csv('clientes_segmentados.csv', index=False)"
   ]
  },
  {
   "cell_type": "code",
   "execution_count": null,
   "id": "1d0d2645-6f59-42d9-9265-c053bb766eb5",
   "metadata": {},
   "outputs": [],
   "source": []
  }
 ],
 "metadata": {
  "kernelspec": {
   "display_name": "Python 3 (ipykernel)",
   "language": "python",
   "name": "python3"
  },
  "language_info": {
   "codemirror_mode": {
    "name": "ipython",
    "version": 3
   },
   "file_extension": ".py",
   "mimetype": "text/x-python",
   "name": "python",
   "nbconvert_exporter": "python",
   "pygments_lexer": "ipython3",
   "version": "3.12.10"
  }
 },
 "nbformat": 4,
 "nbformat_minor": 5
}
